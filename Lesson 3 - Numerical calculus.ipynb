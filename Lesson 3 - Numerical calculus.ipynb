{
  "cells": [
    {
      "cell_type": "markdown",
      "metadata": {
        "id": "eXM1IK-ejPFa"
      },
      "source": [
        "# Lesson 3 - Numerical calculus"
      ]
    },
    {
      "cell_type": "markdown",
      "metadata": {
        "id": "P9bhdW0HjPFb"
      },
      "source": [
        "**Authors:**\n",
        "* Yilber Fabian Bautista\n",
        "* Keiwan Jamaly\n",
        "* Julia Lienert\n",
        "* Sean Tulin"
      ]
    },
    {
      "cell_type": "markdown",
      "metadata": {
        "id": "6_8ELiUHjPFb"
      },
      "source": [
        "In this lecture, we will cover methods for calculating derivatives and integrals numerically. While we will cover some of the theory behind these methods, the main practical takeaway is to gain familiarity with existing functions within the `numpy` and `scipy` libraries that implement these tasks.\n",
        "In Python, most basic tasks have been coded up already in a very efficient way, so knowing your way around Python's libraries saves a lot of work.\n",
        "We have already introduced `numpy`. `scipy` is another important and vast library with many algorithms for scientific computing.\n",
        "\n",
        "By the end of this lecture you will be able to:\n",
        "* Do **numerical differentiation** and understand the principles behind it.\n",
        "* Perform basic **numeric integration** using python integration libraries\n",
        "* Use several integration techniques including: **the rectangle, trapezoidal, and Simpson's rules**.\n",
        "* Do numerical integration in 1 dimensions using quadratures using `scipy` (**quad**)\n",
        "* Perform higher dimensional integrals using `scipy` **dblquad, tplquad**"
      ]
    },
    {
      "cell_type": "markdown",
      "metadata": {
        "id": "UF1OVpwvjPFc"
      },
      "source": [
        "## Numerical Differentiation"
      ]
    },
    {
      "cell_type": "markdown",
      "metadata": {
        "id": "bKmMk93ujPFc"
      },
      "source": [
        "Differentiation is a fundamental tool in science. Naively one would expect the usual derivative definition will  be used for numerics, that is\n",
        "\n",
        "\\begin{equation*}\n",
        "\\frac{f(x+h) - f(x)}{h}\n",
        "\\end{equation*}\n",
        "\n",
        "Expanding  $f(x+h)$ around $h=0$ we verify, that it is indeed the differential of $f(x)$.\n",
        "\n",
        "\\begin{equation*}\n",
        "\\frac{f(x+h) - f(x)}{h} = \\frac{f(x) + hf'(x) + \\mathcal{O}(h^2) - f(x)}{h} = f'(x) + \\mathcal{O}(h)\n",
        "\\end{equation*}\n",
        "\n",
        "As we can see,  the numerical  errors propagates with $\\mathcal{O}(h)$. This is a good approximation to start with, however  we can do better by simply changing our definition of the differential  and expanding around $h=0$\n",
        "\\begin{equation*}\n",
        "\\frac{f(x+h) - f(x-h)}{2h} = \\frac{f(x) + hf'(x) + h^2/2 f''(x) - (f(x) - hf'(x) + h^2/2 f''(x)) + \\mathcal{O}(h^3)}{2h} = f'(x) + \\mathcal{O}(h^2)\n",
        "\\end{equation*}\n",
        "This is called the central difference formula and is primarily used for any numerical differentiation, where now the numeric errors propagate as $\\mathcal{O}(h^2)$\n",
        "\n",
        "## Exercise 1\n",
        "Using the techniques from above, prove that\n",
        "\\begin{equation*}\n",
        "\\frac{f(x+h) -2f(x) + f(x-h)}{h^2} = f''(x) + \\mathcal{O}(h^2)\n",
        "\\end{equation*}"
      ]
    },
    {
      "cell_type": "markdown",
      "metadata": {
        "id": "VWRdpJyBjPFc"
      },
      "source": [
        "## Differentiation with scipy and numpy\n",
        "\n",
        "The above numeric differentiation techniques are already implementations in `scipy` and `numpy` libraries. The two functions have different applications.\n",
        "\n",
        "* [scipy.misc.derivative](https://docs.scipy.org/doc/scipy/reference/generated/scipy.misc.derivative.html) for calculating derivatives of *known* functions. That is, you can know what $f(x)$ is and can calculate it at any point $x$, and you want to calculate its derivative at a specific point.\n",
        "* [numpy.gradient](https://docs.scipy.org/doc/numpy/reference/generated/numpy.gradient.html) for calculating derivatives of *unknown* functions, where you know $f(x)$ only on a grid of specific points $x$.\n",
        "\n",
        "Both functions use the central difference formula.  "
      ]
    },
    {
      "cell_type": "markdown",
      "metadata": {
        "id": "za81RQspjPFc"
      },
      "source": [
        "### Example with `scipy.misc.derivative`\n",
        "\n",
        "SciPy has the function [scipy.misc.derivative](https://docs.scipy.org/doc/scipy/reference/generated/scipy.misc.derivative.html), which allows us to  directly compute the derivative of an analytic function. The syntax for using `scipy.misc.derivative` function is the following:\n",
        "\n",
        "```py\n",
        "scipy.misc.derivative(func, x0, dx=1.0, n=1, args=(), order=3)\n",
        "```\n",
        "\n",
        "where `func` is the given function, `x0` the point  the derivative is calculated at, and `dx` is a float for spacing, in our previous formulas `dx=h`.\n",
        "\n",
        "Let us see an specific example:"
      ]
    },
    {
      "cell_type": "code",
      "execution_count": null,
      "metadata": {
        "id": "6IyOUDNQjPFc",
        "outputId": "a1b78e7e-76c4-43e4-9c1e-9dd06ce5284f",
        "colab": {
          "base_uri": "https://localhost:8080/"
        }
      },
      "outputs": [
        {
          "output_type": "stream",
          "name": "stdout",
          "text": [
            "4.999999999921734\n"
          ]
        },
        {
          "output_type": "stream",
          "name": "stderr",
          "text": [
            "<ipython-input-4-3e255c5e1036>:10: DeprecationWarning: scipy.misc.derivative is deprecated in SciPy v1.10.0; and will be completely removed in SciPy v1.12.0. You may consider using findiff: https://github.com/maroba/findiff or numdifftools: https://github.com/pbrod/numdifftools\n",
            "  result = derivative(test, 1.0, dx = 1e-6)\n"
          ]
        }
      ],
      "source": [
        "# include the function 'derivative' from SciPy\n",
        "from scipy.misc import derivative\n",
        "\n",
        "# define the function of which the derivative should be taken\n",
        "def test(x):\n",
        "\n",
        "    return x**3 + x**2\n",
        "\n",
        "result = derivative(test, 1.0, dx = 1e-6)\n",
        "print(result)"
      ]
    },
    {
      "cell_type": "markdown",
      "metadata": {
        "id": "YNXHXaUFjPFd"
      },
      "source": [
        "From analytic differentiation, we  would have expected $test'(x)=3x^2+2x$, and evaluating at $x=1$ will produce $test'(1)=5$. The difference with our numeric differentiation is then"
      ]
    },
    {
      "cell_type": "code",
      "execution_count": null,
      "metadata": {
        "id": "3EZlHvq2jPFd",
        "outputId": "1767503e-a94c-45c6-b6fc-a7bc56e522ab",
        "colab": {
          "base_uri": "https://localhost:8080/"
        }
      },
      "outputs": [
        {
          "output_type": "execute_result",
          "data": {
            "text/plain": [
              "-7.826628234397504e-11"
            ]
          },
          "metadata": {},
          "execution_count": 5
        }
      ],
      "source": [
        "result-5"
      ]
    },
    {
      "cell_type": "markdown",
      "metadata": {
        "id": "wawSzqi5jPFd"
      },
      "source": [
        "We can see this is a number approximately of order $\\mathcal{O}(dx^2)\\approx10^{-12}$ as expected from the central difference formula."
      ]
    },
    {
      "cell_type": "markdown",
      "metadata": {
        "id": "_k8nR4-FjPFd"
      },
      "source": [
        "### Example with `numpy.gradient`\n",
        "\n",
        "Now, suppose we do not having a known function $f(x)$, but only data points are known on a grid of points in $x$.\n",
        "The derivative at each point is calculated using the formula of the centered derivative. Since both the leftmost and rightmost point do not have two neighbouring points, their derivatives are calculated using the forward (for the leftmost point) and the backward (for the rightmost point) derivative.\n",
        "\n",
        "`numpy` includes the function [np.gradient](https://numpy.org/doc/stable/reference/generated/numpy.gradient.html) that does the job for us, provided an array with data points is given. The syntax is\n",
        "\n",
        "```py\n",
        "np.gradient(f,dx)\n",
        "```\n",
        "\n",
        "where `f` is the array with the data points and `dx` is the spacing between the data points.\n",
        "\n",
        "Notice that the `numpy` functions for taking derivatives only work for data points given as arrays but not for specific functions. For the latter case, one has to use `scipy.misc.derivative`.\n",
        "\n",
        "Also note that `f` need not be a one-dimensional array or list. If $f(x)$ is a vector function, evaluating $f(x)$ on a grid of $x$ points will yield a 2D array. Then `np.gradient` will return an object of the same shape, representing the *gradient* $\\nabla f(x)$ at each grid point $x$.\n",
        "\n",
        "Let us see an specific example of how to use the `np.gradient` function in practice"
      ]
    },
    {
      "cell_type": "code",
      "execution_count": null,
      "metadata": {
        "id": "yTCwBpEqjPFd",
        "outputId": "5c9569eb-00f4-4710-a4b3-874ba23c2f69"
      },
      "outputs": [
        {
          "data": {
            "image/png": "[encoded data removed]",
            "text/plain": [
              "<Figure size 432x288 with 1 Axes>"
            ]
          },
          "metadata": {
            "needs_background": "light"
          },
          "output_type": "display_data"
        }
      ],
      "source": [
        "import numpy as np\n",
        "import matplotlib.pyplot as plt\n",
        "\n",
        "# note: numpy and matplotlib are already included\n",
        "# create list of evenly spaced numbers\n",
        "x = np.linspace(0.0, 2.0*np.pi, 100)\n",
        "\n",
        "# save the spacing in the variable 'h'; since the numbers in 'x' are evenly spaced it doesn't\n",
        "#matter which difference we use\n",
        "h = x[10] - x[9]\n",
        "\n",
        "# create array with the sine of that numbers\n",
        "f = np.sin(x)\n",
        "\n",
        "# calculate the derivatives of the points in 'f' using the spacing 'h' and store the results in the variable 'deriv_bf\n",
        "deriv_f = np.gradient(f, h)\n",
        "\n",
        "# plot the array 'b' and its derivative 'deriv_b'\n",
        "plt.plot(x/np.pi, f,       marker = 'o', color = 'red',  label = 'f (sin(x))')\n",
        "plt.plot(x/np.pi, deriv_f, marker = 'o', color = 'blue', label = 'deriv_f (cos(x))')\n",
        "plt.xlabel(r'x [$\\pi$]')\n",
        "plt.ylabel('f / deriv_f')\n",
        "plt.legend(loc = 'lower left', fontsize = 8)\n",
        "plt.show()\n",
        "\n",
        "# Note: As expected, 'f' shows the sine function and its derivative 'deriv_f' is the cosine!\n"
      ]
    },
    {
      "cell_type": "markdown",
      "metadata": {
        "id": "CIxQg9-AjPFd"
      },
      "source": [
        "## Exercise 2\n",
        "\n",
        "Compute analytically derivative of $\\sin{x}$ and evaluate it at the given `x`-array. Convince yourself that the difference of this result and the numeric derivative `deriv_f` is approximately of  order $\\mathcal{O}(h^2)$. In addition, evaluate the derivative using the  **scipy.misc.derivative**, and compute the difference of this result and the previous two methods of computation. Plot the analytic, and the two numeric derivatives in a scale that makes visible their differences."
      ]
    },
    {
      "cell_type": "code",
      "source": [
        "import numpy as np\n",
        "import matplotlib.pyplot as plt\n",
        "from scipy.misc import derivative\n",
        "\n",
        "x = np.linspace(0.0, 2.0*np.pi, 100)\n",
        "\n",
        "h = x[10] - x[9]\n",
        "\n",
        "f = np.sin(x)\n",
        "\n",
        "def sin(x):\n",
        "  return np.sin(x)\n",
        "\n",
        "deriv_f = np.gradient(f, h)\n",
        "\n",
        "def result(f, x):\n",
        "  return derivative(sin, x, dx = 1e-6)\n",
        "\n",
        "\n",
        "\n",
        "plt.plot(x/np.pi, f, color = 'red',  label = 'f (sin(x))')\n",
        "plt.plot(x/np.pi, result(f,x), color = 'green', linestyle = 'dashed',  label = 'f (sin(x))')\n",
        "#plt.plot(x/np.pi, deriv_f, color = 'blue', label = 'deriv_f (cos(x))')\n",
        "plt.xlabel(r'x [$\\pi$]')\n",
        "plt.ylabel('f / deriv_f')\n",
        "plt.legend(loc = 'lower left', fontsize = 8)\n",
        "plt.show()\n",
        "result(f,x)"
      ],
      "metadata": {
        "id": "0WlpLFDRDHqa",
        "outputId": "a8cc886c-ce48-46b5-ca59-fc51e4733a8c",
        "colab": {
          "base_uri": "https://localhost:8080/",
          "height": 865
        }
      },
      "execution_count": null,
      "outputs": [
        {
          "output_type": "stream",
          "name": "stderr",
          "text": [
            "<ipython-input-7-043b84b45a8b>:17: DeprecationWarning: scipy.misc.derivative is deprecated in SciPy v1.10.0; and will be completely removed in SciPy v1.12.0. You may consider using findiff: https://github.com/maroba/findiff or numdifftools: https://github.com/pbrod/numdifftools\n",
            "  return derivative(sin, x, dx = 1e-6)\n"
          ]
        },
        {
          "output_type": "display_data",
          "data": {
            "text/plain": [
              "<Figure size 640x480 with 1 Axes>"
            ],
            "image/png": "[encoded data removed]"
          },
          "metadata": {}
        },
        {
          "output_type": "execute_result",
          "data": {
            "text/plain": [
              "array([ 1.        ,  0.99798668,  0.99195481,  0.9819287 ,  0.9679487 ,\n",
              "        0.95007112,  0.92836793,  0.90292654,  0.87384938,  0.84125353,\n",
              "        0.80527026,  0.76604444,  0.72373404,  0.67850941,  0.63055267,\n",
              "        0.58005691,  0.52722547,  0.47227107,  0.41541501,  0.35688622,\n",
              "        0.29692038,  0.23575894,  0.17364818,  0.1108382 ,  0.04758192,\n",
              "       -0.01586596, -0.07924996, -0.14231484, -0.20480667, -0.26647381,\n",
              "       -0.32706796, -0.38634513, -0.44406661, -0.5       , -0.55392006,\n",
              "       -0.60560969, -0.65486073, -0.70147489, -0.74526445, -0.78605309,\n",
              "       -0.82367658, -0.85798341, -0.88883545, -0.91610846, -0.93969262,\n",
              "       -0.95949297, -0.97542979, -0.98743889, -0.99547192, -0.99949654,\n",
              "       -0.99949654, -0.99547192, -0.98743889, -0.97542979, -0.95949297,\n",
              "       -0.93969262, -0.91610846, -0.88883545, -0.85798341, -0.82367658,\n",
              "       -0.78605309, -0.74526445, -0.70147489, -0.65486073, -0.60560969,\n",
              "       -0.55392006, -0.5       , -0.44406661, -0.38634513, -0.32706796,\n",
              "       -0.26647381, -0.20480667, -0.14231484, -0.07924996, -0.01586596,\n",
              "        0.04758192,  0.1108382 ,  0.17364818,  0.23575894,  0.29692038,\n",
              "        0.35688622,  0.41541501,  0.47227107,  0.52722547,  0.58005691,\n",
              "        0.63055267,  0.67850941,  0.72373404,  0.76604444,  0.80527026,\n",
              "        0.84125353,  0.87384938,  0.90292654,  0.92836793,  0.95007112,\n",
              "        0.9679487 ,  0.9819287 ,  0.99195481,  0.99798668,  1.        ])"
            ]
          },
          "metadata": {},
          "execution_count": 7
        }
      ]
    },
    {
      "cell_type": "markdown",
      "metadata": {
        "id": "7mqSn9Z1jPFd"
      },
      "source": [
        "## Exercise 3 (optional)\n",
        "\n",
        "To get more practice at the computation of numerical derivatives with Python:\n",
        "1. Calculate the derivative of the function $f(x) = x^4 - 4x^2 + 3x - 1$ at the point $x = 1.5$ both analytically (by hand + using your calculator) and numerically (using $h = dx = 0.1$ and $h = dx = 0.01$). Compare the results. What do you expect to change when using different values for $dx$?\n",
        "2. Calculate the derivative of the function $g(x) = 1/x$ at the point $x = 0.1$ both analytically (by hand + using your calculator) and numerically (using $h = dx = 0.1$). What happens?"
      ]
    },
    {
      "cell_type": "code",
      "execution_count": null,
      "metadata": {
        "id": "kLh4rGRXjPFd"
      },
      "outputs": [],
      "source": [
        "# solution to task 1"
      ]
    },
    {
      "cell_type": "code",
      "execution_count": null,
      "metadata": {
        "id": "lbbzH7bEjPFd"
      },
      "outputs": [],
      "source": [
        "# solution to task 2"
      ]
    },
    {
      "cell_type": "markdown",
      "metadata": {
        "id": "4LPxT-cLjPFd"
      },
      "source": [
        "## Numerical Integration"
      ]
    },
    {
      "cell_type": "markdown",
      "metadata": {
        "id": "q6X1pykejPFd"
      },
      "source": [
        "Given a 1-dimensional integral of the form\n",
        "$$\\int_{a}^{b} f(x) dx,$$\n",
        "exploiting the  linearity of the integral, this integral  can be rewrite it as:\n",
        "$$\\int_{a}^{b} f(x) dx = \\sum_{i=0}^{N} \\int_{x_i}^{x_{i+1}} f(x) dx$$\n",
        "where $x_i = a + i h$ and $h = (b-a)/N$. i.e. the  $x_i$ points are  equally spaced.\n",
        "\n",
        "If $x_i$ and $x_{i+1}$ are close to each other, the integral $\\int_{x_i}^{x_{i+1}} f(x) dx$ can be approximated with different forms.\n",
        "\n",
        "### Rectangle rule\n",
        "\n",
        "The rectangle rule is the simplest form of the integral. Each integral in the previous sum is approximated by the area of a rectangle of base $(x_i - x_{i+1})$ and height $ f(\\frac{x_i + x_{i+1}}{2})$, i.e. the curve passes through the central points in one of the rectangle's edges.\n",
        "\n",
        "$$\\int_{x_i}^{x_{i+1}} f(x) dx = (x_i - x_{i+1}) f\\left(\\frac{x_i + x_{i+1}}{2}\\right) + \\mathcal{O}(1/N^2)$$\n",
        "\n",
        "<img src=\"https://upload.wikimedia.org/wikipedia/commons/2/26/Integration_rectangle.svg\" alt=\"drawing\" width=\"60%\"/>\n",
        "\n",
        "### Trapezoidal rule\n",
        "\n",
        "A little bit more complex is the trapezoidal rule. Each integral in the sum is approximated by the area of a trapezoid. Notice that the trapezoid has two different heights, and to compute its area we have have to evaluate the function at two different $x_i$ values. The area of the trapezoid is then computed by\n",
        "\n",
        "$\\int_{x_i}^{x_{i+1}} f(x) dx = (x_i - x_{i+1}) \\frac{f(x_i) + f(x_{i+1})}{2} + \\mathcal{O}(1/N^3)$\n",
        "\n",
        "<img src=\"https://upload.wikimedia.org/wikipedia/commons/0/03/Integration_trapezoid.svg\" alt=\"drawing\" width=\"60%\"/>\n",
        "\n",
        "### Simpson's rule\n",
        "\n",
        "The most complicated rule out of the three is the Simpson's rule. The function of each interval is approximated  by a polynomial of order 2 and integrating that polynomial instead of the original function. It's error propagation is of order $\\mathcal{O}(1/N^5)$\n",
        "\n",
        "<img src=\"https://upload.wikimedia.org/wikipedia/commons/1/13/Integration_simpson.svg\" alt=\"drawing\" width=\"60%\"/>\n",
        "\n",
        "<style>\n",
        "img {\n",
        "  background-color: white;\n",
        "}\n",
        "</style>\n",
        "\n",
        "As you can see, the error for these methods evolve differently for different values of $N$. It's important to keep in mind, that different methods also require different numbers of function calls. So if f(x) is a very expensive function without a lot of fluctuations, it's better to use the rectangle rule, than the trapezoid rule.\n",
        "\n",
        "There is also a way to vary the size of the intervals depending on the function, but this is a more advanced method. We will just mention it here, for you to know that this exists.\n",
        "\n",
        "Also keep in mind, that the methods presented here are just the common three out of many which are optimized for different problems.\n",
        "\n",
        "[Source of images](https://en.wikipedia.org/wiki/Numerical_integration)\n",
        "\n"
      ]
    },
    {
      "cell_type": "markdown",
      "metadata": {
        "id": "WeYZRZ4jjPFd"
      },
      "source": [
        "## Exercise 4\n",
        "\n",
        "Using `numpy`, program the rectangle and trapezoid rules in the next code block to integrate the function $f(x) = e^{-x}$ from $x=0$ to $x=1$. Compare it with the analytic result varying the the number of intervals and see what the difference for the mentioned methods of computation. Plot all your findings"
      ]
    },
    {
      "cell_type": "code",
      "execution_count": null,
      "metadata": {
        "id": "_ekx2f_QjPFd"
      },
      "outputs": [],
      "source": [
        "# Write your solutions here\n"
      ]
    },
    {
      "cell_type": "markdown",
      "metadata": {
        "id": "53OFP1RVjPFd"
      },
      "source": [
        "The Simpson's rule is quite complicated to implement and other integration methods can be even more complicated. For that reason, clever people have already done this for us and bundled them in a library. The`scipy` library contains many methods for numerical integration. We will now take a look at some of them, but a comprehensive list is [here](https://docs.scipy.org/doc/scipy/reference/integrate.html)."
      ]
    },
    {
      "cell_type": "markdown",
      "metadata": {
        "id": "wSxM1bOXjPFd"
      },
      "source": [
        "## `scipy.integrate.quad`\n",
        "\n",
        "Scipy's `quad` function is the main workhorse that you should use for numerical one-dimensional integrals.\n",
        "It is based on the FORTRAN library **QUADPACK**. Scipy has generally a really good [documentation](https://docs.scipy.org/doc/scipy/reference/generated/scipy.integrate.quad.html) that we encourage you read.\n",
        "\n",
        "Given a 1-dimensional analytic integrand (or interpolated) function  `func`, the 1-dimensional quad integration has the following syntax:\n",
        "```py\n",
        "result, error = integrate.quad(func, x_min, x_max, args=())\n",
        "```\n",
        "where `args` are possible parameters entering in your function.\n",
        "Run the commands `import scipy.integrate as integrate` and  `integrate.quad?` for additional documentation.\n",
        "\n",
        "Let us see how to use `quad` integration with an specific example.\n",
        "\n"
      ]
    },
    {
      "cell_type": "code",
      "execution_count": null,
      "metadata": {
        "id": "dAqW4jsPjPFd",
        "outputId": "17ee1cbf-c99a-4572-8eaa-1a97b7f896bd",
        "colab": {
          "base_uri": "https://localhost:8080/",
          "height": 216
        }
      },
      "outputs": [
        {
          "output_type": "error",
          "ename": "NameError",
          "evalue": "name 'a' is not defined",
          "traceback": [
            "\u001b[0;31m---------------------------------------------------------------------------\u001b[0m",
            "\u001b[0;31mNameError\u001b[0m                                 Traceback (most recent call last)",
            "\u001b[0;32m<ipython-input-15-e8b34cc94806>\u001b[0m in \u001b[0;36m<cell line: 8>\u001b[0;34m()\u001b[0m\n\u001b[1;32m      6\u001b[0m \u001b[0;34m\u001b[0m\u001b[0m\n\u001b[1;32m      7\u001b[0m \u001b[0;31m# calculate the integral of 'f' from 0 to 10\u001b[0m\u001b[0;34m\u001b[0m\u001b[0;34m\u001b[0m\u001b[0m\n\u001b[0;32m----> 8\u001b[0;31m \u001b[0mresult\u001b[0m\u001b[0;34m,\u001b[0m \u001b[0merror\u001b[0m \u001b[0;34m=\u001b[0m \u001b[0mintegrate\u001b[0m\u001b[0;34m.\u001b[0m\u001b[0mquad\u001b[0m\u001b[0;34m(\u001b[0m\u001b[0mf\u001b[0m\u001b[0;34m,\u001b[0m \u001b[0;36m0\u001b[0m\u001b[0;34m,\u001b[0m \u001b[0;36m10\u001b[0m\u001b[0;34m,\u001b[0m \u001b[0margs\u001b[0m \u001b[0;34m=\u001b[0m \u001b[0ma\u001b[0m\u001b[0;34m)\u001b[0m\u001b[0;34m\u001b[0m\u001b[0;34m\u001b[0m\u001b[0m\n\u001b[0m\u001b[1;32m      9\u001b[0m \u001b[0;34m\u001b[0m\u001b[0m\n\u001b[1;32m     10\u001b[0m \u001b[0mprint\u001b[0m\u001b[0;34m(\u001b[0m\u001b[0mresult\u001b[0m\u001b[0;34m,\u001b[0m \u001b[0merror\u001b[0m\u001b[0;34m)\u001b[0m\u001b[0;34m\u001b[0m\u001b[0;34m\u001b[0m\u001b[0m\n",
            "\u001b[0;31mNameError\u001b[0m: name 'a' is not defined"
          ]
        }
      ],
      "source": [
        "import numpy as np\n",
        "import scipy.integrate as integrate\n",
        "\n",
        "def f(x):\n",
        "    return np.exp(-x)\n",
        "\n",
        "# calculate the integral of 'f' from 0 to 10\n",
        "result, error = integrate.quad(f, 0, 10,)\n",
        "\n",
        "print(result, error)"
      ]
    },
    {
      "cell_type": "markdown",
      "metadata": {
        "id": "8qD3N8YfjPFe"
      },
      "source": [
        "The first number gives you the result, the second one the numerical error of the integration."
      ]
    },
    {
      "cell_type": "markdown",
      "metadata": {
        "id": "zGW5UqikjPFe"
      },
      "source": [
        "While `quad` is useful for known integrand functions, other methods implemented in the `scipy` library are useful when having integrand functions that are `np.arrays`. One of such a methods is the already mentioned **trapezoid** rule.\n",
        "The syntax for implementation of this integration method is the following:\n",
        "\n",
        "```py\n",
        "scipy.integrate.trapezoid(y, x=None, dx=1.0, axis=-1)\n",
        "```\n",
        "or\n",
        "```py\n",
        "scipy.integrate.trapz(y, x=None, dx=1.0, axis=-1)\n",
        "```\n",
        "\n",
        "Let us see an specific example of this."
      ]
    },
    {
      "cell_type": "code",
      "execution_count": null,
      "metadata": {
        "id": "ljRkDVCkjPFe",
        "outputId": "e0ada045-e449-4d67-a4ec-7f1d9da3a957"
      },
      "outputs": [
        {
          "data": {
            "text/plain": [
              "1.000834863090761"
            ]
          },
          "execution_count": 3,
          "metadata": {},
          "output_type": "execute_result"
        }
      ],
      "source": [
        "x = np.linspace(0, 100, 1000)\n",
        "y = f(x)\n",
        "\n",
        "integrate.trapz(y, x)"
      ]
    },
    {
      "cell_type": "markdown",
      "metadata": {
        "id": "tujTD-pojPFe"
      },
      "source": [
        "As you can see, the result is fairly similar to the quad method, but you don't have an error estimate.\n",
        "\n",
        "The last method we will be presenting here, is **Simpson's method**, which works similar as the trapezoid method. The syntax for the implementation is:\n",
        "\n",
        "```py\n",
        "scipy.integrate.simpson(y, x=None, dx=1.0, axis=-1)\n",
        "```\n",
        "or\n",
        "```py\n",
        "scipy.integrate.simps(y, x=None, dx=1.0, axis=-1)\n",
        "```\n"
      ]
    },
    {
      "cell_type": "code",
      "execution_count": null,
      "metadata": {
        "id": "rFwJ2rzMjPFe",
        "outputId": "cc6cc47a-5dc7-41d2-ab53-1d83e1cb56c3"
      },
      "outputs": [
        {
          "data": {
            "text/plain": [
              "1.0000402922553666"
            ]
          },
          "execution_count": 9,
          "metadata": {},
          "output_type": "execute_result"
        }
      ],
      "source": [
        "x = np.linspace(0, 100, 1000)\n",
        "y = f(x)\n",
        "integrate.simps(y, x)"
      ]
    },
    {
      "cell_type": "markdown",
      "metadata": {
        "id": "m3yC2wumjPFe"
      },
      "source": [
        "Depending on the problem we are trying to solve, we can use either of the different integration methods in `scipy` library.  While `quad` works just with functions and the step size is estimated on the fly, the implementation of the `trapezoid` and `simpson` methods work on arrays.\n",
        "\n",
        "Keep in mind that one can convert an array into a function and a function into an array, for that, you we have prepared an  optional section on interpolating functions, which we will extend in Lecture 7."
      ]
    },
    {
      "cell_type": "markdown",
      "metadata": {
        "id": "8fFy-uESjPFe"
      },
      "source": [
        "## Exercise 5\n",
        "\n",
        "In this exercise we will compute numerically the integral of the function\n",
        "\n",
        "$$y(x,a) = \\int_0^{x} e^{-a\\phi^2} d\\phi,$$\n",
        "using the `quad` integration method described above. Here $a$ is a positive real number. For $x\\to \\infty$, this integral has an analytic result\n",
        "\n",
        "$$\\int_0^{\\infty} e^{-a \\phi^2} d\\phi = \\sqrt{\\frac{\\pi}{4a}}$$\n",
        "\n",
        "which we will use to compare to our numeric integration.\n",
        "\n",
        "1. Write a function, which represents the integrand and a function `y(x,a)` which calculates the integral.\n",
        "Recall the `quad` function allows for integration when parameters are included inside the integrand, as well as infinite integration interval.\n",
        "\n",
        "2. Check that your function is well defined by calculating `y(np.inf,10)` and compared to the analytic result using `a = 10`.\n",
        "\n",
        "3. Use the interval `x = np.linspace(0, 100, 100)` to evaluate `y(x,10)`\n",
        "\n",
        "5. Plot your result."
      ]
    },
    {
      "cell_type": "code",
      "execution_count": null,
      "metadata": {
        "id": "bkhPC_oijPFe",
        "outputId": "fc31fd50-fee8-4c07-8e57-b78ac7a2ee51",
        "colab": {
          "base_uri": "https://localhost:8080/"
        }
      },
      "outputs": [
        {
          "output_type": "stream",
          "name": "stdout",
          "text": [
            "1.6653345369377348e-16\n"
          ]
        }
      ],
      "source": [
        "import numpy as np\n",
        "import scipy.integrate as integrate\n",
        "\n",
        "def f(phi,a):\n",
        "  return np.exp(-a*phi**2)\n",
        "\n",
        "def y(x,a):\n",
        "  result, error = integrate.quad(f, 0, x, args = a)\n",
        "  return result\n",
        "\n",
        "print(np.abs(y(np.inf,10) - np.sqrt(np.pi/40)) )"
      ]
    },
    {
      "cell_type": "markdown",
      "metadata": {
        "id": "vrNZrb2EjPFe"
      },
      "source": [
        "## Two-dimensional integrals (`scipy.integrate.dblquad`)"
      ]
    },
    {
      "cell_type": "markdown",
      "metadata": {
        "id": "XxhnhnfjjPFe"
      },
      "source": [
        "Higher-dimensional integration is also possible to perform. In particular, for two dimensions we have `scipy.integrate.dblquad`.\n",
        "\n",
        "For instance, the area of a circle in Cartesian coordinates can be computed from the double integral.\n",
        "\n",
        "$$A = \\int_{x=-1}^{1} \\int_{y=-\\sqrt{1-x^2}}^{\\sqrt{1-x^2}} dy dx$$\n",
        "\n",
        "To understand this further, lets rewrite the integral, to make the variables match with the [documentation](https://docs.scipy.org/doc/scipy/reference/generated/scipy.integrate.dblquad.html):\n",
        "\n",
        "$$\\int_{x=a}^{b} \\int_{y=\\text{gfun}(x)}^{\\text{hfun}(x)} \\text{fun}(y,x) dy dx$$\n",
        "\n",
        "where:\n",
        "\n",
        "$$a = -1, \\quad\n",
        "b = 1, \\quad\n",
        "\\text{gfun}(x) = -\\sqrt{1-x^2}, \\quad\n",
        "\\text{hfun}(x) = \\sqrt{1-x^2}, \\quad\n",
        "\\text{fun}(y,x) = 1$$\n",
        "\n",
        "Let's program this integral using our `dblquad` documentation"
      ]
    },
    {
      "cell_type": "code",
      "execution_count": null,
      "metadata": {
        "id": "V2ImJd3BjPFe",
        "outputId": "263d6ceb-bf23-45b8-edca-ac454b7831c4"
      },
      "outputs": [
        {
          "data": {
            "text/plain": [
              "(3.141592653589797, 2.000471344132393e-09)"
            ]
          },
          "execution_count": 5,
          "metadata": {},
          "output_type": "execute_result"
        }
      ],
      "source": [
        "a = -1\n",
        "b = 1\n",
        "\n",
        "def gfun(x):\n",
        "    return -np.sqrt(1-x**2)\n",
        "\n",
        "def hfun(x):\n",
        "    return np.sqrt(1-x**2)\n",
        "\n",
        "def fun(y, x): # the order of the arguments is important\n",
        "    return 1\n",
        "\n",
        "\n",
        "integrate.dblquad(fun, a, b, gfun, hfun)"
      ]
    },
    {
      "cell_type": "markdown",
      "metadata": {
        "id": "4emjfJO7jPFe"
      },
      "source": [
        "And it is as easy as that!"
      ]
    },
    {
      "cell_type": "markdown",
      "metadata": {
        "id": "MNnCrpjDjPFe"
      },
      "source": [
        "## Exercise 6\n",
        "\n",
        "Using the same approach, calculate the volume of a sphere using the function `scipy.integrate.tplquad`, which is documented [here](https://docs.scipy.org/doc/scipy/reference/generated/scipy.integrate.tplquad.html)."
      ]
    },
    {
      "cell_type": "code",
      "execution_count": 27,
      "metadata": {
        "id": "mKV8OBVxjPFe",
        "outputId": "7a620f38-20d9-48c9-db6f-80a8cb29b892",
        "colab": {
          "base_uri": "https://localhost:8080/",
          "height": 89
        }
      },
      "outputs": [
        {
          "output_type": "stream",
          "name": "stdout",
          "text": [
            "Calculated volume of the sphere: 4.1887902047863905\n",
            "0.0\n"
          ]
        },
        {
          "output_type": "execute_result",
          "data": {
            "text/plain": [
              "'\\ntplquad(integrand, *r_limits, *theta_limits, *phi_limits)\\n\\ntplquad(integrand, r_limits[0], r_limits[1], theta_limits[0], theta_limits[1], phi_limits[0], phi_limits[1])\\n\\nThese two lines of code or one and the same, the star in front of the list just unpacks the values so it is easier\\n'"
            ],
            "application/vnd.google.colaboratory.intrinsic+json": {
              "type": "string"
            }
          },
          "metadata": {},
          "execution_count": 27
        }
      ],
      "source": [
        "from scipy.integrate import tplquad\n",
        "import numpy as np\n",
        "\n",
        "# Define the radius of the sphere\n",
        "R = 1\n",
        "\n",
        "# Define the integrand in spherical coordinates\n",
        "def integrand(phi, theta, r):\n",
        "    return r**2 * np.sin(phi)\n",
        "\n",
        "# Set up the limits for r, theta, and phi\n",
        "r_limits = [0, R]\n",
        "theta_limits = [0, 2 * np.pi]\n",
        "phi_limits = [0, np.pi]\n",
        "\n",
        "volume, error = tplquad(integrand, *r_limits, *theta_limits, *phi_limits)\n",
        "\n",
        "print(\"Calculated volume of the sphere:\", volume)\n",
        "print(np.abs(volume - 4/3*np.pi))\n",
        "\n",
        "'''\n",
        "tplquad(integrand, *r_limits, *theta_limits, *phi_limits)\n",
        "\n",
        "tplquad(integrand, r_limits[0], r_limits[1], theta_limits[0], theta_limits[1], phi_limits[0], phi_limits[1])\n",
        "\n",
        "These two lines of code or one and the same, the star in front of the list just unpacks the values so it is easier\n",
        "'''\n"
      ]
    },
    {
      "cell_type": "markdown",
      "metadata": {
        "id": "xdWbPGujjPFe"
      },
      "source": [
        "# Interpolation (optional)\n",
        "\n",
        "Given two arrays with data points (y, x), we have precise values where the data points are recorded, but sometimes one wants an estimate of the values in between these data points. A process called interpolation helps us to do this. We will roughly outline interpolation and discuss it in detail in  Lecture 7.\n",
        "\n",
        "Let's say that we have the following data points:"
      ]
    },
    {
      "cell_type": "code",
      "execution_count": null,
      "metadata": {
        "id": "8h0Jd46WjPFi",
        "outputId": "6a7ec8ce-304d-4a7f-cc6c-c0d1ac6b3333"
      },
      "outputs": [
        {
          "data": {
            "text/plain": [
              "<matplotlib.collections.PathCollection at 0x1ce3844a520>"
            ]
          },
          "execution_count": 7,
          "metadata": {},
          "output_type": "execute_result"
        },
        {
          "data": {
            "image/png": "[encoded data removed]",
            "text/plain": [
              "<Figure size 432x288 with 1 Axes>"
            ]
          },
          "metadata": {
            "needs_background": "light"
          },
          "output_type": "display_data"
        }
      ],
      "source": [
        "x = np.linspace(0.0, 5, 5)\n",
        "\n",
        "y = x**2*np.exp(x)\n",
        "\n",
        "plt.scatter(x, y)"
      ]
    },
    {
      "cell_type": "markdown",
      "metadata": {
        "id": "mdr0afjCjPFi"
      },
      "source": [
        "Suppose we want to estimate y(3), but as you can see, a value of y at x=3 doesn't exist. The simplest estimate is a linear interpolation, which means drawing a straight line between the points. This can be done with the `scipy.interpolate.interp1d` function."
      ]
    },
    {
      "cell_type": "code",
      "execution_count": null,
      "metadata": {
        "id": "I1hVp5WsjPFi",
        "outputId": "df25d310-2636-4b74-b9e2-7f926666741b"
      },
      "outputs": [
        {
          "data": {
            "text/plain": [
              "array(284.8654386)"
            ]
          },
          "execution_count": 8,
          "metadata": {},
          "output_type": "execute_result"
        }
      ],
      "source": [
        "import scipy.interpolate as interpolate\n",
        "\n",
        "y_linear = interpolate.interp1d(x, y)\n",
        "\n",
        "y_linear(3)"
      ]
    },
    {
      "cell_type": "markdown",
      "metadata": {
        "id": "BfP7vSS0jPFi"
      },
      "source": [
        "[scipy.interpolate.interp1d](https://docs.scipy.org/doc/scipy/reference/generated/scipy.interpolate.interp1d.html#scipy.interpolate.interp1d) generates a function in the domain $(min(x), max(x))$ It easily can be understood by plotting it with a high point density, to see that it truly continuous."
      ]
    },
    {
      "cell_type": "code",
      "execution_count": null,
      "metadata": {
        "id": "snjo4H6BjPFi",
        "outputId": "01ccca5e-0cd8-49f2-c418-1f307553aa6e"
      },
      "outputs": [
        {
          "data": {
            "text/plain": [
              "<matplotlib.collections.PathCollection at 0x1ce39499130>"
            ]
          },
          "execution_count": 9,
          "metadata": {},
          "output_type": "execute_result"
        },
        {
          "data": {
            "image/png": "[encoded data removed]",
            "text/plain": [
              "<Figure size 432x288 with 1 Axes>"
            ]
          },
          "metadata": {
            "needs_background": "light"
          },
          "output_type": "display_data"
        }
      ],
      "source": [
        "x_high_density = np.linspace(0.0, 5, 50)\n",
        "\n",
        "plt.scatter(x_high_density, y_linear(x_high_density))"
      ]
    },
    {
      "cell_type": "markdown",
      "metadata": {
        "id": "jKG-Fe3ajPFi"
      },
      "source": [
        "There is also the possibility to use a quadratic formula for interpolation, in which case the function *and* its first derivative are continuous at each point. The keyword `kind=2` specifies that we want a polynomial of second order."
      ]
    },
    {
      "cell_type": "code",
      "execution_count": null,
      "metadata": {
        "id": "dpp7sL5TjPFi",
        "outputId": "c098608e-69a0-435a-fac7-63d88c08545a"
      },
      "outputs": [
        {
          "data": {
            "text/plain": [
              "<matplotlib.collections.PathCollection at 0x1ce39561f40>"
            ]
          },
          "execution_count": 11,
          "metadata": {},
          "output_type": "execute_result"
        },
        {
          "data": {
            "image/png": "[encoded data removed]",
            "text/plain": [
              "<Figure size 432x288 with 1 Axes>"
            ]
          },
          "metadata": {
            "needs_background": "light"
          },
          "output_type": "display_data"
        }
      ],
      "source": [
        "y_quadric = interpolate.interp1d(x, y, kind=2)\n",
        "\n",
        "x_high_density = np.linspace(0.0, 5, 50)\n",
        "\n",
        "plt.scatter(x_high_density, y_quadric(x_high_density))"
      ]
    },
    {
      "cell_type": "markdown",
      "metadata": {
        "id": "XGSUX8oYjPFi"
      },
      "source": [
        "A nice little hack to know is, that if you function is bijective, you can calculate the inverse with the inverse interpolation."
      ]
    },
    {
      "cell_type": "code",
      "execution_count": null,
      "metadata": {
        "id": "ym8l_50bjPFi",
        "outputId": "12a34d3b-64bf-4304-a750-7864c9e1f755"
      },
      "outputs": [
        {
          "data": {
            "text/plain": [
              "<matplotlib.collections.PathCollection at 0x1ce395cdc10>"
            ]
          },
          "execution_count": 12,
          "metadata": {},
          "output_type": "execute_result"
        },
        {
          "data": {
            "image/png": "[encoded data removed]",
            "text/plain": [
              "<Figure size 432x288 with 1 Axes>"
            ]
          },
          "metadata": {
            "needs_background": "light"
          },
          "output_type": "display_data"
        }
      ],
      "source": [
        "y_inverse_quadric = interpolate.interp1d(y, x, kind=1) # normally it is x, y\n",
        "\n",
        "x_inverse_high_density = np.linspace(y.min(), y.max(), 1000)\n",
        "\n",
        "plt.scatter(x_inverse_high_density, y_inverse_quadric(x_inverse_high_density))"
      ]
    },
    {
      "cell_type": "markdown",
      "metadata": {
        "id": "Wd5pEUcBjPFj"
      },
      "source": [
        "There exist also interpolations for 'cubic', 'nearest', etc. depending on the problem you like to solve. Normally you need to experiment a little, to find the one, which fit's the best."
      ]
    },
    {
      "cell_type": "code",
      "execution_count": null,
      "metadata": {
        "id": "5S6bRD6njPFj"
      },
      "outputs": [],
      "source": []
    }
  ],
  "metadata": {
    "interpreter": {
      "hash": "aee8b7b246df8f9039afb4144a1f6fd8d2ca17a180786b69acc140d282b71a49"
    },
    "kernelspec": {
      "display_name": "Python 3 (ipykernel)",
      "language": "python",
      "name": "python3"
    },
    "language_info": {
      "codemirror_mode": {
        "name": "ipython",
        "version": 3
      },
      "file_extension": ".py",
      "mimetype": "text/x-python",
      "name": "python",
      "nbconvert_exporter": "python",
      "pygments_lexer": "ipython3",
      "version": "3.9.12"
    },
    "colab": {
      "provenance": []
    }
  },
  "nbformat": 4,
  "nbformat_minor": 0
}